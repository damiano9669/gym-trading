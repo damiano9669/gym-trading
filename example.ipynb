{
 "cells": [
  {
   "cell_type": "markdown",
   "metadata": {
    "collapsed": true,
    "pycharm": {
     "name": "#%% md\n"
    }
   },
   "source": [
    "# Example"
   ]
  },
  {
   "cell_type": "code",
   "execution_count": 1,
   "outputs": [],
   "source": [
    "# import libraries\n",
    "import gym\n",
    "import gym_trading\n",
    "import numpy as np"
   ],
   "metadata": {
    "collapsed": false,
    "pycharm": {
     "name": "#%%\n"
    }
   }
  },
  {
   "cell_type": "code",
   "execution_count": 2,
   "outputs": [
    {
     "name": "stdout",
     "output_type": "stream",
     "text": [
      "Number of actions: 2\n"
     ]
    }
   ],
   "source": [
    "# creating environment\n",
    "env = gym.make('trading-v0', fee=0.25)\n",
    "\n",
    "print('Number of actions:', env.action_space.n)"
   ],
   "metadata": {
    "collapsed": false,
    "pycharm": {
     "name": "#%%\n"
    }
   }
  },
  {
   "cell_type": "code",
   "execution_count": 3,
   "outputs": [],
   "source": [
    "# resetting environment\n",
    "observation = env.reset() # the observation is the price of the bitcoin at this timestep."
   ],
   "metadata": {
    "collapsed": false,
    "pycharm": {
     "name": "#%%\n"
    }
   }
  },
  {
   "cell_type": "code",
   "execution_count": 4,
   "outputs": [
    {
     "name": "stdout",
     "output_type": "stream",
     "text": [
      "Iteration: 0 - Reward (profit): 0 - Done: False - Price: 9186.099609375\n",
      "Iteration: 1000 - Reward (profit): 0 - Done: False - Price: 8653.599609375\n",
      "Iteration: 2000 - Reward (profit): 0 - Done: False - Price: 7630.2001953125\n",
      "Iteration: 3000 - Reward (profit): 0 - Done: False - Price: 7685.10009765625\n",
      "Iteration: 4000 - Reward (profit): 0 - Done: False - Price: 6569.35009765625\n",
      "Iteration: 5000 - Reward (profit): 0 - Done: False - Price: 6192.10009765625\n",
      "Iteration: 6000 - Reward (profit): 0 - Done: False - Price: 6534.10009765625\n",
      "Iteration: 7000 - Reward (profit): 0 - Done: False - Price: 6259.10009765625\n",
      "Iteration: 8000 - Reward (profit): 0 - Done: False - Price: 8300.0498046875\n",
      "Iteration: 9000 - Reward (profit): 0 - Done: False - Price: 7005.5\n",
      "Iteration: 10000 - Reward (profit): 0 - Done: False - Price: 6279.35009765625\n",
      "Iteration: 11000 - Reward (profit): 0 - Done: False - Price: 6692.89990234375\n",
      "Iteration: 12000 - Reward (profit): 0 - Done: False - Price: 7296.2998046875\n",
      "Iteration: 13000 - Reward (profit): 0 - Done: False - Price: 6502.14990234375\n",
      "Iteration: 14000 - Reward (profit): 0 - Done: False - Price: 6387.2001953125\n",
      "Iteration: 15000 - Reward (profit): 0 - Done: False - Price: 6576.35009765625\n",
      "Iteration: 16000 - Reward (profit): 0 - Done: False - Price: 6657.14990234375\n",
      "Iteration: 17000 - Reward (profit): 0 - Done: False - Price: 6492.7001953125\n",
      "Iteration: 18000 - Reward (profit): 0 - Done: False - Price: 6429.10009765625\n",
      "Iteration: 19000 - Reward (profit): 0 - Done: False - Price: 5627.7001953125\n",
      "Iteration: 20000 - Reward (profit): 0 - Done: False - Price: 3855.699951171875\n",
      "Iteration: 21000 - Reward (profit): 0 - Done: False - Price: 3332.199951171875\n",
      "Iteration: 22000 - Reward (profit): 0 - Done: False - Price: 3558.35009765625\n",
      "Iteration: 23000 - Reward (profit): 0 - Done: False - Price: 3744.300048828125\n",
      "Iteration: 24000 - Reward (profit): 0 - Done: False - Price: 4050.0\n",
      "Iteration: 25000 - Reward (profit): 0 - Done: False - Price: 3694.89990234375\n",
      "Iteration: 26000 - Reward (profit): 0 - Done: False - Price: 3486.0\n",
      "Iteration: 27000 - Reward (profit): 0 - Done: False - Price: 3490.10009765625\n",
      "Iteration: 28000 - Reward (profit): 0 - Done: False - Price: 3824.89990234375\n",
      "Iteration: 29000 - Reward (profit): 0 - Done: False - Price: 3847.199951171875\n",
      "Iteration: 30000 - Reward (profit): 0 - Done: False - Price: 3922.199951171875\n",
      "Iteration: 31000 - Reward (profit): 0 - Done: False - Price: 4029.949951171875\n",
      "Iteration: 32000 - Reward (profit): 0 - Done: False - Price: 4192.10009765625\n",
      "Iteration: 33000 - Reward (profit): 0 - Done: False - Price: 5110.10009765625\n",
      "Iteration: 34000 - Reward (profit): 0 - Done: False - Price: 5330.89990234375\n",
      "Iteration: 35000 - Reward (profit): 0 - Done: False - Price: 5376.60009765625\n",
      "Iteration: 36000 - Reward (profit): 0 - Done: False - Price: 6934.0\n",
      "Iteration: 37000 - Reward (profit): 0 - Done: False - Price: 7673.10009765625\n",
      "Iteration: 38000 - Reward (profit): 0 - Done: False - Price: 8716.5\n",
      "Iteration: 39000 - Reward (profit): 0 - Done: False - Price: 8108.4501953125\n",
      "Iteration: 40000 - Reward (profit): 0 - Done: False - Price: 10689.5\n",
      "Iteration: 41000 - Reward (profit): 0 - Done: False - Price: 11902.7001953125\n",
      "Iteration: 42000 - Reward (profit): 0 - Done: False - Price: 10785.5498046875\n",
      "Iteration: 43000 - Reward (profit): 0 - Done: False - Price: 9637.099609375\n",
      "Iteration: 44000 - Reward (profit): 0 - Done: False - Price: 10645.900390625\n",
      "Iteration: 45000 - Reward (profit): 0 - Done: False - Price: 10580.400390625\n",
      "Iteration: 46000 - Reward (profit): 0 - Done: False - Price: 10065.900390625\n",
      "Iteration: 47000 - Reward (profit): 0 - Done: False - Price: 10514.7001953125\n",
      "Iteration: 48000 - Reward (profit): 0 - Done: False - Price: 10362.0498046875\n",
      "Iteration: 49000 - Reward (profit): 0 - Done: False - Price: 8403.2998046875\n",
      "Iteration: 50000 - Reward (profit): 0 - Done: False - Price: 8089.2998046875\n",
      "Iteration: 51000 - Reward (profit): 0 - Done: False - Price: 8193.2998046875\n",
      "Iteration: 52000 - Reward (profit): 0 - Done: False - Price: 9091.400390625\n",
      "Iteration: 53000 - Reward (profit): 0 - Done: False - Price: 9331.400390625\n",
      "Iteration: 54000 - Reward (profit): 0 - Done: False - Price: 8514.2001953125\n",
      "Iteration: 55000 - Reward (profit): 0 - Done: False - Price: 7200.0\n",
      "Iteration: 56000 - Reward (profit): 0 - Done: False - Price: 7583.89990234375\n",
      "Iteration: 57000 - Reward (profit): 0 - Done: False - Price: 6803.7001953125\n",
      "Iteration: 58000 - Reward (profit): 0 - Done: False - Price: 7322.2998046875\n",
      "Iteration: 59000 - Reward (profit): 0 - Done: False - Price: 7843.39990234375\n",
      "Iteration: 60000 - Reward (profit): 0 - Done: False - Price: 8915.75\n",
      "Iteration: 61000 - Reward (profit): 0 - Done: False - Price: 8961.5\n",
      "Iteration: 62000 - Reward (profit): 0 - Done: False - Price: 9769.900390625\n",
      "Iteration: 63000 - Reward (profit): 0 - Done: False - Price: 9820.2998046875\n",
      "Iteration: 64000 - Reward (profit): 0 - Done: False - Price: 8678.2001953125\n",
      "Iteration: 65000 - Reward (profit): 0 - Done: False - Price: 7965.7001953125\n",
      "Iteration: 66000 - Reward (profit): 0 - Done: False - Price: 6756.2001953125\n",
      "Iteration: 67000 - Reward (profit): 10.054057577478615 - Done: False - Price: 6445.5498046875\n",
      "Iteration: 68000 - Reward (profit): 0 - Done: False - Price: 6994.2998046875\n",
      "Iteration: 69000 - Reward (profit): 0 - Done: False - Price: 7089.75\n",
      "Iteration: 70000 - Reward (profit): 0 - Done: False - Price: 8706.650390625\n",
      "Total profit: 48.54 %\n"
     ]
    }
   ],
   "source": [
    "# simulating a trading session\n",
    "done = False\n",
    "counter = 0\n",
    "while not done:\n",
    "    \n",
    "    # random action [BUY, SELL]\n",
    "    action = np.random.randint(500) # actions admitted are 0 and 1 only.\n",
    "    observation, reward, done, _ = env.step(action)\n",
    "    if counter % 1000 == 0:\n",
    "        print(f'Iteration: {counter} - Reward (profit): {reward} - Done: {done} - Price: {observation}')\n",
    "\n",
    "    counter += 1\n",
    "\n",
    "print(f'Total profit: {round(env.get_profit(), 2)} %')"
   ],
   "metadata": {
    "collapsed": false,
    "pycharm": {
     "name": "#%%\n"
    }
   }
  },
  {
   "cell_type": "code",
   "execution_count": 5,
   "outputs": [
    {
     "data": {
      "text/plain": "<Figure size 432x288 with 1 Axes>",
      "image/png": "[encoded data removed]"
     },
     "metadata": {
      "needs_background": "light"
     },
     "output_type": "display_data"
    }
   ],
   "source": [
    "env.render()"
   ],
   "metadata": {
    "collapsed": false,
    "pycharm": {
     "name": "#%%\n"
    }
   }
  }
 ],
 "metadata": {
  "kernelspec": {
   "display_name": "Python 3",
   "language": "python",
   "name": "python3"
  },
  "language_info": {
   "codemirror_mode": {
    "name": "ipython",
    "version": 2
   },
   "file_extension": ".py",
   "mimetype": "text/x-python",
   "name": "python",
   "nbconvert_exporter": "python",
   "pygments_lexer": "ipython2",
   "version": "2.7.6"
  }
 },
 "nbformat": 4,
 "nbformat_minor": 0
}